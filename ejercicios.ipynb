{
 "cells": [
  {
   "cell_type": "markdown",
   "id": "ffe974d4",
   "metadata": {},
   "source": [
    "# PROYECTO LÓGICA: Katas de Python"
   ]
  },
  {
   "cell_type": "markdown",
   "id": "193d2ba5",
   "metadata": {},
   "source": [
    "1. Escribe una función que reciba una cadena de texto como parámetro y devuelva un diccionario con las frecuencias de cada letra en la cadena. Los espacios no deben ser considerados."
   ]
  },
  {
   "cell_type": "code",
   "execution_count": 1,
   "id": "b4ede23f",
   "metadata": {},
   "outputs": [],
   "source": [
    "def frecuencia_letra(cadena):\n",
    "    # Creamos un diccionario vacío\n",
    "    dict_letras = {}\n",
    "    # Con un bucle for iteramos por cada una de las letras del texto (eliminando espacios)\n",
    "    for l in cadena.upper().replace(' ',''):\n",
    "        # Contamos cada uno de los valores de la cadena\n",
    "        conteo = cadena.upper().count(l)\n",
    "        # Y vamos añadiendo en el diccionario cada letra con su conteo\n",
    "        dict_letras[l] = conteo\n",
    "    return dict_letras"
   ]
  },
  {
   "cell_type": "code",
   "execution_count": 2,
   "id": "2dbaa427",
   "metadata": {},
   "outputs": [
    {
     "data": {
      "text/plain": [
       "{'E': 3,\n",
       " 'S': 2,\n",
       " 'T': 1,\n",
       " 'O': 1,\n",
       " 'U': 2,\n",
       " 'N': 1,\n",
       " 'A': 2,\n",
       " 'P': 1,\n",
       " 'R': 1,\n",
       " 'B': 1}"
      ]
     },
     "execution_count": 2,
     "metadata": {},
     "output_type": "execute_result"
    }
   ],
   "source": [
    "frecuencia_letra(\"Esto es una prueba\")"
   ]
  },
  {
   "cell_type": "markdown",
   "id": "1b094adb",
   "metadata": {},
   "source": [
    "2. Dada una lista de números, obtén una nueva lista con el doble de cada valor. Usa la función  map()"
   ]
  },
  {
   "cell_type": "code",
   "execution_count": 3,
   "id": "75097ff5",
   "metadata": {},
   "outputs": [
    {
     "data": {
      "text/plain": [
       "[4, 6, 12, 14, 6, 12, 16]"
      ]
     },
     "execution_count": 3,
     "metadata": {},
     "output_type": "execute_result"
    }
   ],
   "source": [
    "lista_numeros = [2, 3, 6, 7, 3, 6, 8]\n",
    "\n",
    "# Al tratarse de una funcion sencilla, usamos una lambda\n",
    "resultado_map = list(map(lambda x: x*2,lista_numeros))\n",
    "resultado_map"
   ]
  },
  {
   "cell_type": "markdown",
   "id": "c4ba1189",
   "metadata": {},
   "source": [
    "3. Escribe una función que tome una lista de palabras y una palabra objetivo como parámetros. La función debe devolver una lista con todas las palabras de la lista original que contengan la palabra objetivo."
   ]
  },
  {
   "cell_type": "code",
   "execution_count": 4,
   "id": "bd9f6cf9",
   "metadata": {},
   "outputs": [],
   "source": [
    "lista_palabras1 = [\"pimiento\", \"cebolla\", \"calabacin\", \"tomate\", \"uva\"]\n",
    "palabra1 = \"pimiento\""
   ]
  },
  {
   "cell_type": "code",
   "execution_count": 5,
   "id": "11e9de01",
   "metadata": {},
   "outputs": [],
   "source": [
    "def encontrar_palabra(lista,palabra):\n",
    "    lista_final = []\n",
    "    for e in lista:\n",
    "        if e == palabra:\n",
    "            lista_final.append(e)\n",
    "        else:\n",
    "            continue\n",
    "    return lista_final"
   ]
  },
  {
   "cell_type": "code",
   "execution_count": 6,
   "id": "18acf7b8",
   "metadata": {},
   "outputs": [
    {
     "data": {
      "text/plain": [
       "['pimiento']"
      ]
     },
     "execution_count": 6,
     "metadata": {},
     "output_type": "execute_result"
    }
   ],
   "source": [
    "encontrar_palabra(lista_palabras1,palabra1)"
   ]
  },
  {
   "cell_type": "markdown",
   "id": "08a0385b",
   "metadata": {},
   "source": [
    "> Creamos una segunda función, que en este caso encuentra las palabras que contienen un aletra concreta."
   ]
  },
  {
   "cell_type": "code",
   "execution_count": 7,
   "id": "09a5e727",
   "metadata": {},
   "outputs": [],
   "source": [
    "def encontrar_letra(lista,letra):\n",
    "    lista_final = []\n",
    "    for e in lista:\n",
    "        if letra in e:\n",
    "            lista_final.append(e)\n",
    "        else:\n",
    "            continue\n",
    "    return lista_final"
   ]
  },
  {
   "cell_type": "code",
   "execution_count": 8,
   "id": "b9110f26",
   "metadata": {},
   "outputs": [
    {
     "data": {
      "text/plain": [
       "['pimiento', 'cebolla', 'tomate']"
      ]
     },
     "execution_count": 8,
     "metadata": {},
     "output_type": "execute_result"
    }
   ],
   "source": [
    "encontrar_letra(lista_palabras1,\"e\")"
   ]
  },
  {
   "cell_type": "markdown",
   "id": "fd5e929e",
   "metadata": {},
   "source": [
    "4. Genera una función que calcule la diferencia entre los valores de dos listas. Usa la función  map()"
   ]
  },
  {
   "cell_type": "code",
   "execution_count": 9,
   "id": "a5d7915c",
   "metadata": {},
   "outputs": [],
   "source": [
    "lista1= [2, 3, 5, 6, 1, 4]\n",
    "lista2 = [1, 1, 5, 4, 3, 1]"
   ]
  },
  {
   "cell_type": "code",
   "execution_count": 10,
   "id": "b3fd8722",
   "metadata": {},
   "outputs": [],
   "source": [
    "def resta_listas(lista1, lista2):\n",
    "    resta_map = list(map(lambda x,y:x-y, lista1, lista2 ))\n",
    "    return resta_map"
   ]
  },
  {
   "cell_type": "code",
   "execution_count": 11,
   "id": "22e8bb8e",
   "metadata": {},
   "outputs": [
    {
     "data": {
      "text/plain": [
       "[1, 2, 0, 2, -2, 3]"
      ]
     },
     "execution_count": 11,
     "metadata": {},
     "output_type": "execute_result"
    }
   ],
   "source": [
    "resta_listas(lista1, lista2)"
   ]
  },
  {
   "cell_type": "markdown",
   "id": "da696c65",
   "metadata": {},
   "source": [
    "5. Ecribe una función que tome una lista de números como parámetro y un valor opcional nota_aprobado, que por defecto es 5. La función debe calcular la media de los números en la lista y determinar si la media es mayor o igual que nota aprobado. Si es así, el estado será \"aprobado\", de lo contrario, será \"suspenso\". La función debe devolver una tupla que contenga la media y el estado."
   ]
  },
  {
   "cell_type": "code",
   "execution_count": 12,
   "id": "4bed4a9b",
   "metadata": {},
   "outputs": [],
   "source": [
    "def evaluar_notas(notas, aprobado):\n",
    "    \"\"\"Funcion que calcula la media de una lista de notas y devuelve el resultado y la valoración de aprobado o no en funcion del valor de aprobado elegido por el usuario\n",
    "\n",
    "    Args:\n",
    "        notas (list): Listado de notas (valor númérico)\n",
    "        aprobado (number): Numero entero o decimal\n",
    "\n",
    "    Returns:\n",
    "        Devuelve una tupla con el valor de la media y un stirng informando de si ese valor corresponde con un aprobado o un suspenso\n",
    "    \"\"\"\n",
    "    media_notas= sum(notas) / len(notas)\n",
    "    resultado = []\n",
    "    resultado.append(media_notas)\n",
    "\n",
    "    if media_notas >= aprobado:\n",
    "        resultado.append(\"Aprobado\")    \n",
    "    else:\n",
    "        resultado.append(\"Suspenso\")\n",
    "    \n",
    "    return tuple(resultado)   "
   ]
  },
  {
   "cell_type": "code",
   "execution_count": 13,
   "id": "3250e1e3",
   "metadata": {},
   "outputs": [],
   "source": [
    "lista_notas = [5, 7, 8, 9, 10]\n",
    "valor_aprobado = 5"
   ]
  },
  {
   "cell_type": "code",
   "execution_count": 14,
   "id": "114006b4",
   "metadata": {},
   "outputs": [
    {
     "data": {
      "text/plain": [
       "(7.8, 'Aprobado')"
      ]
     },
     "execution_count": 14,
     "metadata": {},
     "output_type": "execute_result"
    }
   ],
   "source": [
    "evaluar_notas(lista_notas,valor_aprobado)"
   ]
  },
  {
   "cell_type": "markdown",
   "id": "87bf7de5",
   "metadata": {},
   "source": [
    "6. Escribe una función que calcule el factorial de un número de manera recursiva.\n",
    "> El factorial de un número  es el resultado de multiplicar ese número por todos los números enteros positivos menores que él hasta llegar a 1."
   ]
  },
  {
   "cell_type": "code",
   "execution_count": 15,
   "id": "8c672bc3",
   "metadata": {},
   "outputs": [],
   "source": [
    "def calcular_factorial(numero):\n",
    "    if numero == 0:\n",
    "        return 1\n",
    "    else:\n",
    "        return numero * calcular_factorial(numero - 1)\n"
   ]
  },
  {
   "cell_type": "code",
   "execution_count": 16,
   "id": "75f2daff",
   "metadata": {},
   "outputs": [
    {
     "data": {
      "text/plain": [
       "5040"
      ]
     },
     "execution_count": 16,
     "metadata": {},
     "output_type": "execute_result"
    }
   ],
   "source": [
    "calcular_factorial(7)"
   ]
  },
  {
   "cell_type": "markdown",
   "id": "79744f55",
   "metadata": {},
   "source": [
    "7. Genera una función que convierta una lista de tuplas a una lista de strings. Usa la función map()"
   ]
  },
  {
   "cell_type": "code",
   "execution_count": 17,
   "id": "af10c4de",
   "metadata": {},
   "outputs": [],
   "source": [
    "def tupla_to_string(tupla):\n",
    "    \"\"\"Funcion que convierte una tupla en un string\n",
    "\n",
    "    Args:\n",
    "        tupla (tuple): Tupla a convertir\n",
    "\n",
    "    Returns:\n",
    "        str: Devuelve la tupla convertida en string\n",
    "    \"\"\"\n",
    "    return  list(map(lambda t: \" \".join(map(str, t)), tupla))\n"
   ]
  },
  {
   "cell_type": "code",
   "execution_count": 18,
   "id": "e93991d9",
   "metadata": {},
   "outputs": [],
   "source": [
    "lista_tupla_1 = [(1,2),(3,4,5)]\n",
    "lista_tupla_2 = [(\"Hola\", \"que\", \"tal\"), (\"¿\", \"Cómo\", \"estás\", \"?\")]"
   ]
  },
  {
   "cell_type": "code",
   "execution_count": 19,
   "id": "3b063934",
   "metadata": {},
   "outputs": [
    {
     "ename": "NameError",
     "evalue": "name 'lista_tupla' is not defined",
     "output_type": "error",
     "traceback": [
      "\u001b[31m---------------------------------------------------------------------------\u001b[39m",
      "\u001b[31mNameError\u001b[39m                                 Traceback (most recent call last)",
      "\u001b[36mCell\u001b[39m\u001b[36m \u001b[39m\u001b[32mIn[19]\u001b[39m\u001b[32m, line 1\u001b[39m\n\u001b[32m----> \u001b[39m\u001b[32m1\u001b[39m lista_final_1 = tupla_to_string(\u001b[43mlista_tupla\u001b[49m)\n\u001b[32m      2\u001b[39m lista_final_1\n",
      "\u001b[31mNameError\u001b[39m: name 'lista_tupla' is not defined"
     ]
    }
   ],
   "source": [
    "lista_final_1 = tupla_to_string(lista_tupla)\n",
    "lista_final_1"
   ]
  },
  {
   "cell_type": "code",
   "execution_count": null,
   "id": "e948af21",
   "metadata": {},
   "outputs": [
    {
     "data": {
      "text/plain": [
       "['Hola que tal', '¿ Cómo estás ?']"
      ]
     },
     "execution_count": 107,
     "metadata": {},
     "output_type": "execute_result"
    }
   ],
   "source": [
    "lista_final_2 = tupla_to_string(lista_tupla_2)\n",
    "lista_final_2"
   ]
  },
  {
   "cell_type": "code",
   "execution_count": null,
   "id": "c11b7485",
   "metadata": {},
   "outputs": [
    {
     "data": {
      "text/plain": [
       "['1 2', '3 4 5']"
      ]
     },
     "execution_count": 93,
     "metadata": {},
     "output_type": "execute_result"
    }
   ],
   "source": [
    "# Version inicial\n",
    "lista_string = []\n",
    "for t in lista_tupla:\n",
    "    string = \" \".join(map(str,t))\n",
    "    lista_string.append(string)\n",
    "\n",
    "lista_string"
   ]
  },
  {
   "cell_type": "markdown",
   "id": "367e6c5f",
   "metadata": {},
   "source": [
    "8. Escribe un programa que pida al usuario dos números e intente dividirlos. Si el usuario ingresa un valor no numérico o intenta dividir por cero, maneja esas excepciones de manera adecuada. Asegúrate de mostrar un mensaje indicando si la división fue exitosa o no."
   ]
  },
  {
   "cell_type": "code",
   "execution_count": null,
   "id": "1a0b95bd",
   "metadata": {},
   "outputs": [
    {
     "name": "stdout",
     "output_type": "stream",
     "text": [
      "No se puede dividir entre cero\n"
     ]
    }
   ],
   "source": [
    "input_1 = input(\"Introduce un número: \")\n",
    "input_2 = input(\"Introduce otro número: \")\n",
    "\n",
    "try:\n",
    "    resultado = int(input_1) / int(input_2)\n",
    "    print(f\"El resultado de la división es {resultado}\")\n",
    "except ZeroDivisionError:\n",
    "    print(\"No se puede dividir entre cero\")\n",
    "except ValueError:\n",
    "    print(\"Has introducido un valor no numérico\")"
   ]
  },
  {
   "cell_type": "markdown",
   "id": "cd45ed96",
   "metadata": {},
   "source": [
    "9. Escribe una función que tome una lista de nombres de mascotas como parámetro y devuelva una nueva lista excluyendo ciertas mascotas prohibidas en España. La lista de mascotas a excluir es [\"Mapache\", \"Tigre\", \"Serpiente Pitón\", \"Cocodrilo\", \"Oso\"].Usa la función filter()"
   ]
  },
  {
   "cell_type": "code",
   "execution_count": null,
   "id": "45c87f17",
   "metadata": {},
   "outputs": [],
   "source": [
    "def mascotas_permitidas(lista_mascotas):\n",
    "    \"\"\"Funcion que filtra una lista de mascotas y devuelve una lista con las mascotas permitidas\n",
    "\n",
    "    Args:\n",
    "        lista_mascotas (list): Lista de mascotas a evaluar\n",
    "\n",
    "    Returns:\n",
    "        Lista de mascotas permitidas\n",
    "    \"\"\"\n",
    "    prohibidas = [\"Mapache\", \"Tigre\", \"Serpiente Pitón\", \"Cocodrilo\", \"Oso\"]\n",
    "    return list(filter(lambda mascota: mascota not in prohibidas, lista_mascotas))\n"
   ]
  },
  {
   "cell_type": "code",
   "execution_count": null,
   "id": "25de65f3",
   "metadata": {},
   "outputs": [
    {
     "data": {
      "text/plain": [
       "['Perro', 'Gato']"
      ]
     },
     "execution_count": 132,
     "metadata": {},
     "output_type": "execute_result"
    }
   ],
   "source": [
    "lista_mascotas_1 = [\"Perro\", \"Gato\", \"Tigre\", \"Serpiente Pitón\", \"Cocodrilo\", \"Oso\"]\n",
    "mascotas_resultado = mascotas_permitidas(lista_mascotas_1)\n",
    "mascotas_resultado"
   ]
  },
  {
   "cell_type": "markdown",
   "id": "5035458f",
   "metadata": {},
   "source": [
    "10. Escribe una función que reciba una lista de números y calcule su promedio. Si la lista está vacía, lanza una excepción personalizada y maneja el error adecuadamente."
   ]
  },
  {
   "cell_type": "code",
   "execution_count": null,
   "id": "d532095d",
   "metadata": {},
   "outputs": [],
   "source": [
    "def calcular_promedio(lista_numeros):\n",
    "    \"\"\"Funcion que calcula el promedio de una lista de números\n",
    "    Args:\n",
    "        lista_numeros (list): Lista de números a evaluar\n",
    "    Returns :\n",
    "        Devuelve el promedio de la lista (float) redondeado a 2 decimales\n",
    "    \"\"\"\n",
    "    try:\n",
    "        promedio = sum(lista_numeros) / len(lista_numeros)\n",
    "        return round(promedio,2)\n",
    "    except len(lista_numeros) == 0:\n",
    "        return \"La lista está vacía\""
   ]
  },
  {
   "cell_type": "code",
   "execution_count": null,
   "id": "3c9d9bc1",
   "metadata": {},
   "outputs": [
    {
     "data": {
      "text/plain": [
       "4.57"
      ]
     },
     "execution_count": 136,
     "metadata": {},
     "output_type": "execute_result"
    }
   ],
   "source": [
    "lista_numeros_3 = [7,3,5,2,7,6,2]\n",
    "num_promedio = calcular_promedio(lista_numeros_3)\n",
    "num_promedio"
   ]
  },
  {
   "cell_type": "markdown",
   "id": "f78160a0",
   "metadata": {},
   "source": [
    "11. Escribe un programa que pida al usuario que introduzca su edad. Si el usuario ingresa un valor no numérico o un valor fuera del rango esperado (por ejemplo, menor que 0 o mayor que 120), maneja las excepciones  adecuadamente."
   ]
  },
  {
   "cell_type": "code",
   "execution_count": null,
   "id": "ea9a63a9",
   "metadata": {},
   "outputs": [
    {
     "name": "stdout",
     "output_type": "stream",
     "text": [
      "La edad no puede ser negativa\n"
     ]
    }
   ],
   "source": [
    "input_edad = input(\"Introduce tu edad: \")\n",
    "\n",
    "try:\n",
    "    edad = int(input_edad)\n",
    "    if edad < 0:\n",
    "        print (\"La edad no puede ser negativa\")\n",
    "    elif edad > 120:\n",
    "        print (\"La edad no puede ser mayor de 120\")\n",
    "    else:\n",
    "        print (f\"Tienes {edad} años\")\n",
    "\n",
    "except ValueError:\n",
    "    print(\"Has introducido un valor no numérico\")"
   ]
  },
  {
   "cell_type": "markdown",
   "id": "8d6140b7",
   "metadata": {},
   "source": [
    "12. Genera una función que al recibir una frase devuelva una lista con la longitud de cada palabra. Usa la función  map()"
   ]
  },
  {
   "cell_type": "code",
   "execution_count": null,
   "id": "1abf8cb2",
   "metadata": {},
   "outputs": [],
   "source": [
    "def longitudes_palabras(frase):\n",
    "    \"\"\"Funcion que calcula la longitud de cada palabra en una frase y la devuelve como una lista\n",
    "\n",
    "    Args:\n",
    "        frase (str): Frase de entrada\n",
    "\n",
    "    Returns:\n",
    "        list: Una lista con la longitud de cada palabra\n",
    "    \"\"\"\n",
    "\n",
    "    return list(map(len, frase.split()))"
   ]
  },
  {
   "cell_type": "code",
   "execution_count": null,
   "id": "c55e4842",
   "metadata": {},
   "outputs": [],
   "source": [
    "frase_test = \"Esta es una frase de prueba\""
   ]
  },
  {
   "cell_type": "code",
   "execution_count": null,
   "id": "c8318eaa",
   "metadata": {},
   "outputs": [
    {
     "data": {
      "text/plain": [
       "[4, 2, 3, 5, 2, 6]"
      ]
     },
     "execution_count": 17,
     "metadata": {},
     "output_type": "execute_result"
    }
   ],
   "source": [
    "longitudes_palabras = longitudes_palabras(frase_test)\n",
    "longitudes_palabras"
   ]
  },
  {
   "cell_type": "markdown",
   "id": "c245ba24",
   "metadata": {},
   "source": [
    "13. Genera una función la cual, para un conjunto de caracteres, devuelva una lista de tuplas con cada letra en mayúsculas y minúsculas. Las letras no pueden estar repetidas. Usa la función  map()"
   ]
  },
  {
   "cell_type": "code",
   "execution_count": null,
   "id": "4976aa4f",
   "metadata": {},
   "outputs": [],
   "source": [
    "def mayus_minus_tuplas(conjunto):\n",
    "    \"\"\"\n",
    "    Recibe un conjunto de caracteres y devuelve una lista de tuplas con cada letra en mayúsculas y minúsculas, sin repetir letras.\n",
    "\n",
    "    Args:\n",
    "        conjunto (str): Cadena de caracteres\n",
    "\n",
    "    Returns:\n",
    "        list: Lista de tuplas (mayúscula, minúscula)\n",
    "    \"\"\"\n",
    "    return list(map(lambda l: (l.upper(), l.lower()), set(conjunto.lower().replace(\" \", \"\"))))"
   ]
  },
  {
   "cell_type": "code",
   "execution_count": null,
   "id": "804c9040",
   "metadata": {},
   "outputs": [
    {
     "data": {
      "text/plain": [
       "[('A', 'a'),\n",
       " ('S', 's'),\n",
       " ('F', 'f'),\n",
       " ('B', 'b'),\n",
       " ('N', 'n'),\n",
       " ('U', 'u'),\n",
       " ('T', 't'),\n",
       " ('E', 'e'),\n",
       " ('R', 'r'),\n",
       " ('D', 'd'),\n",
       " ('P', 'p')]"
      ]
     },
     "execution_count": 50,
     "metadata": {},
     "output_type": "execute_result"
    }
   ],
   "source": [
    "resultado_tuplas = mayus_minus_tuplas(frase_test)\n",
    "resultado_tuplas"
   ]
  },
  {
   "cell_type": "markdown",
   "id": "5bdb7187",
   "metadata": {},
   "source": [
    "14. Crea una función que retorne las palabras de una lista de palabras que comience con una letra en especifico. Usa la función  filter()"
   ]
  },
  {
   "cell_type": "code",
   "execution_count": null,
   "id": "b2e8d3a8",
   "metadata": {},
   "outputs": [],
   "source": [
    "def palabras_con_letra(lista_palabras, letra):\n",
    "    \"\"\"\n",
    "    Retorna las palabras de una lista que comienzan con una letra específica.\n",
    "\n",
    "    Args:\n",
    "        lista_palabras (list): Lista de palabras.\n",
    "        letra (str): Letra con la que deben comenzar las palabras.\n",
    "\n",
    "    Returns:\n",
    "        list: Lista de palabras que comienzan con la letra dada.\n",
    "    \"\"\"\n",
    "    return list(filter(lambda palabra: palabra.lower().startswith(letra.lower()), lista_palabras))"
   ]
  },
  {
   "cell_type": "code",
   "execution_count": null,
   "id": "1a272f39",
   "metadata": {},
   "outputs": [
    {
     "data": {
      "text/plain": [
       "['Patata', 'pimiento', 'pijo']"
      ]
     },
     "execution_count": 55,
     "metadata": {},
     "output_type": "execute_result"
    }
   ],
   "source": [
    "resultado_palabras = palabras_con_letra([\"Patata\", \"pimiento\", \"Amapola\", \"pijo\", \"Incendio\"], \"p\")\n",
    "resultado_palabras"
   ]
  },
  {
   "cell_type": "markdown",
   "id": "ef2d007f",
   "metadata": {},
   "source": [
    "15. Crea una función  lambda  que  sume 3 a cada número de una lista dada."
   ]
  },
  {
   "cell_type": "code",
   "execution_count": null,
   "id": "de231258",
   "metadata": {},
   "outputs": [],
   "source": [
    "sumar_tres = lambda lista: list(map(lambda x: x + 3, lista))"
   ]
  },
  {
   "cell_type": "markdown",
   "id": "e3dee183",
   "metadata": {},
   "source": [
    "16. Escribe una función que tome una cadena de texto y un número entero n como parámetros y devuelva una lista de todas las palabras que sean más largas que n. Usa la función  filter()"
   ]
  },
  {
   "cell_type": "code",
   "execution_count": 20,
   "id": "af2897c0",
   "metadata": {},
   "outputs": [],
   "source": [
    "cadena = \"Vamos a por ello, no hay que rendirse aunque sea dificil. Sin miedo.\""
   ]
  },
  {
   "cell_type": "code",
   "execution_count": 21,
   "id": "10683828",
   "metadata": {},
   "outputs": [
    {
     "data": {
      "text/plain": [
       "68"
      ]
     },
     "execution_count": 21,
     "metadata": {},
     "output_type": "execute_result"
    }
   ],
   "source": [
    "len(cadena)"
   ]
  },
  {
   "cell_type": "code",
   "execution_count": 22,
   "id": "c86a8de3",
   "metadata": {},
   "outputs": [],
   "source": [
    "def longitudes_palabras(cadena, longitud):\n",
    "\n",
    "    return list(filter(lambda x: len(x) > longitud, cadena.split()))"
   ]
  },
  {
   "cell_type": "code",
   "execution_count": 24,
   "id": "ef4b5eb8",
   "metadata": {},
   "outputs": [
    {
     "data": {
      "text/plain": [
       "['rendirse', 'dificil.']"
      ]
     },
     "execution_count": 24,
     "metadata": {},
     "output_type": "execute_result"
    }
   ],
   "source": [
    "resultado_cadena = longitudes_palabras(cadena,7)\n",
    "resultado_cadena"
   ]
  },
  {
   "cell_type": "markdown",
   "id": "259a43e2",
   "metadata": {},
   "source": [
    "17. Crea una función que tome una lista de dígitos y devuelva el número correspondiente. Por ejemplo, [5,7,2]  corresponde al número quinientos setenta y dos [572]. Usa la función  reduce()"
   ]
  },
  {
   "cell_type": "code",
   "execution_count": null,
   "id": "c58074fd",
   "metadata": {},
   "outputs": [
    {
     "name": "stdout",
     "output_type": "stream",
     "text": [
      "436572\n"
     ]
    }
   ],
   "source": [
    "from functools import reduce\n",
    "\n",
    "def lista_numero(lista_digitos):\n",
    "    return reduce(lambda acumulado, digito: acumulado * 10 + digito, lista_digitos)\n",
    "\n",
    "\n",
    "resultado_numero = lista_numero([4, 3, 6, 5, 7, 2])\n",
    "print(resultado)  "
   ]
  },
  {
   "cell_type": "code",
   "execution_count": 43,
   "id": "4fdb5a96",
   "metadata": {},
   "outputs": [
    {
     "name": "stdout",
     "output_type": "stream",
     "text": [
      "572\n"
     ]
    }
   ],
   "source": [
    "# Definimos una función que hace lo mismo que la lambda\n",
    "def acumular_digitos(acumulado, digito):\n",
    "    return acumulado * 10 + digito\n",
    "\n",
    "# Usamos reduce con esa función\n",
    "def lista_a_numero(digitos):\n",
    "    return reduce(acumular_digitos, digitos)\n",
    "\n",
    "# Ejemplo de uso\n",
    "resultado = lista_a_numero([5, 7, 2])\n",
    "print(resultado)  # Imprime: 572"
   ]
  },
  {
   "cell_type": "markdown",
   "id": "a0fdfd45",
   "metadata": {},
   "source": [
    "18. Escribe un programa en Python que cree una lista de diccionarios que contenga información de estudiantes (nombre, edad, calificación) y use la función filter para extraer a los estudiantes con una calificación mayor o igual a 90. Usa la función  filter()"
   ]
  },
  {
   "cell_type": "code",
   "execution_count": 47,
   "id": "0bba7809",
   "metadata": {},
   "outputs": [
    {
     "data": {
      "text/plain": [
       "[{'nombre': 'Ana', 'edad': 20, 'calificacion': 95},\n",
       " {'nombre': 'Marta', 'edad': 21, 'calificacion': 92},\n",
       " {'nombre': 'Sofía', 'edad': 20, 'calificacion': 90}]"
      ]
     },
     "execution_count": 47,
     "metadata": {},
     "output_type": "execute_result"
    }
   ],
   "source": [
    "# Creamos la lista de diccionarios con información de estudiantes\n",
    "estudiantes = [\n",
    "    {\"nombre\": \"Ana\", \"edad\": 20, \"calificacion\": 95},\n",
    "    {\"nombre\": \"Luis\", \"edad\": 22, \"calificacion\": 88},\n",
    "    {\"nombre\": \"Marta\", \"edad\": 21, \"calificacion\": 92},\n",
    "    {\"nombre\": \"Pedro\", \"edad\": 23, \"calificacion\": 85},\n",
    "    {\"nombre\": \"Sofía\", \"edad\": 20, \"calificacion\": 90}\n",
    "]\n",
    "\n",
    "# Usamos filter para extraer estudiantes con calificación >= 90\n",
    "estudiantes_destacados = list(filter(lambda e: e[\"calificacion\"] >= 90, estudiantes))\n",
    "estudiantes_destacados"
   ]
  },
  {
   "cell_type": "markdown",
   "id": "428cb480",
   "metadata": {},
   "source": [
    "19. Crea una función  lambda  que filtre los números impares de una lista dada, "
   ]
  },
  {
   "cell_type": "code",
   "execution_count": 58,
   "id": "24da8540",
   "metadata": {},
   "outputs": [
    {
     "data": {
      "text/plain": [
       "[1, 3, 5, 7, 9]"
      ]
     },
     "execution_count": 58,
     "metadata": {},
     "output_type": "execute_result"
    }
   ],
   "source": [
    "def numeros_impares(lista_numeros):\n",
    "    \"\"\"Función que filtra los números impares de una lista.\n",
    "\n",
    "    Args:\n",
    "        lista_numeros (list): Lista de números a evaluar.\n",
    "\n",
    "    Returns:\n",
    "        list: Lista de números impares.\n",
    "    \"\"\"\n",
    "    return list(filter(lambda x: x % 2 != 0, lista_numeros))\n",
    "\n",
    "resultado_impares = numeros_impares([1, 2, 3, 4, 5, 6, 7, 8, 9])\n",
    "resultado_impares"
   ]
  },
  {
   "cell_type": "markdown",
   "id": "4b9c7a6b",
   "metadata": {},
   "source": [
    "20. Para una lista con elementos tipo integer y string obtén una nueva lista sólo con los valores int. Usa la función filter()."
   ]
  },
  {
   "cell_type": "code",
   "execution_count": 61,
   "id": "d2de1cf4",
   "metadata": {},
   "outputs": [
    {
     "data": {
      "text/plain": [
       "[3, 4, 6]"
      ]
     },
     "execution_count": 61,
     "metadata": {},
     "output_type": "execute_result"
    }
   ],
   "source": [
    "list(filter(lambda x: type(x) == int , [\"pie\", 2.5, 3, \"hola\", 4, 5.6, 6, \"adios\"]))"
   ]
  },
  {
   "cell_type": "markdown",
   "id": "f31dd7d7",
   "metadata": {},
   "source": [
    "21. Crea una función que calcule el cubo de un número dado mediante una función  lambda"
   ]
  },
  {
   "cell_type": "code",
   "execution_count": 62,
   "id": "44235606",
   "metadata": {},
   "outputs": [
    {
     "data": {
      "text/plain": [
       "27"
      ]
     },
     "execution_count": 62,
     "metadata": {},
     "output_type": "execute_result"
    }
   ],
   "source": [
    "def calcular_cubo(x):\n",
    "    \"\"\"Función que calcula el cubo de un número.\n",
    "\n",
    "    Args:\n",
    "        x (int): Número a elevar al cubo.\n",
    "\n",
    "    Returns:\n",
    "        int: El cubo del número.\n",
    "    \"\"\"\n",
    "    return lambda x: x ** 3\n",
    "\n",
    "resultado_cubo = calcular_cubo(3)\n",
    "resultado_cubo(3)\n"
   ]
  },
  {
   "cell_type": "markdown",
   "id": "2d351f1e",
   "metadata": {},
   "source": [
    "22. Dada una lista numérica, obtén el producto total de los valores de dicha lista.Usa la función reduce() ."
   ]
  },
  {
   "cell_type": "code",
   "execution_count": 63,
   "id": "18367ee2",
   "metadata": {},
   "outputs": [
    {
     "data": {
      "text/plain": [
       "120"
      ]
     },
     "execution_count": 63,
     "metadata": {},
     "output_type": "execute_result"
    }
   ],
   "source": [
    "reduce(lambda x, y: x*y, [1, 2, 3, 4, 5])"
   ]
  },
  {
   "cell_type": "markdown",
   "id": "4bb2845e",
   "metadata": {},
   "source": [
    "23. Concatena una lista de palabras.Usa la función  reduce() ."
   ]
  },
  {
   "cell_type": "code",
   "execution_count": 68,
   "id": "1019ddc4",
   "metadata": {},
   "outputs": [
    {
     "data": {
      "text/plain": [
       "'Hola que tal'"
      ]
     },
     "execution_count": 68,
     "metadata": {},
     "output_type": "execute_result"
    }
   ],
   "source": [
    "reduce(lambda x,y: x + \" \" + y, [\"Hola\", \"que\", \"tal\"])"
   ]
  },
  {
   "cell_type": "markdown",
   "id": "dd826e8a",
   "metadata": {},
   "source": [
    "24. Calcula la diferencia total en los valores de una lista. Usa la función  reduce() ."
   ]
  },
  {
   "cell_type": "code",
   "execution_count": 70,
   "id": "e67085d6",
   "metadata": {},
   "outputs": [
    {
     "data": {
      "text/plain": [
       "2"
      ]
     },
     "execution_count": 70,
     "metadata": {},
     "output_type": "execute_result"
    }
   ],
   "source": [
    "reduce(lambda x,y: x-y, [10, 5, 2, 1])"
   ]
  },
  {
   "cell_type": "markdown",
   "id": "1b89f9c8",
   "metadata": {},
   "source": [
    "25. Crea una función que cuente el número de caracteres en una cadena de texto dada.\n"
   ]
  },
  {
   "cell_type": "code",
   "execution_count": 80,
   "id": "2a0af84b",
   "metadata": {},
   "outputs": [],
   "source": [
    "def longitud_cadena(cadena):\n",
    "    \"\"\"Función que calcula la longitud de una cadena.\n",
    "\n",
    "    Args:\n",
    "        cadena (str): Cadena a evaluar.\n",
    "\n",
    "    Returns:\n",
    "        int: Longitud de la cadena.\n",
    "    \"\"\"\n",
    "    return len(cadena.replace(\" \", \"\")) # Eliminamos los espacios en blanco"
   ]
  },
  {
   "cell_type": "code",
   "execution_count": 82,
   "id": "e8a8ac89",
   "metadata": {},
   "outputs": [
    {
     "data": {
      "text/plain": [
       "16"
      ]
     },
     "execution_count": 82,
     "metadata": {},
     "output_type": "execute_result"
    }
   ],
   "source": [
    "resultado_lcadena = longitud_cadena(\"Hola, ¿cómo estás?\")\n",
    "resultado_lcadena"
   ]
  },
  {
   "cell_type": "markdown",
   "id": "7fccef32",
   "metadata": {},
   "source": [
    "26. Crea una función  lambda  que calcule el resto de la división entre dos números dados."
   ]
  },
  {
   "cell_type": "code",
   "execution_count": 102,
   "id": "b32344b8",
   "metadata": {},
   "outputs": [
    {
     "data": {
      "text/plain": [
       "1"
      ]
     },
     "execution_count": 102,
     "metadata": {},
     "output_type": "execute_result"
    }
   ],
   "source": [
    "resto = lambda x, y: x % y\n",
    "resto(10, 3)"
   ]
  },
  {
   "cell_type": "markdown",
   "id": "ce24abeb",
   "metadata": {},
   "source": [
    "27. Crea una función que calcule el promedio de una lista de números."
   ]
  },
  {
   "cell_type": "code",
   "execution_count": 104,
   "id": "d4d3598e",
   "metadata": {},
   "outputs": [
    {
     "data": {
      "text/plain": [
       "3.0"
      ]
     },
     "execution_count": 104,
     "metadata": {},
     "output_type": "execute_result"
    }
   ],
   "source": [
    "def promedio_lista(lista_numeros):\n",
    "    \"\"\"Función que calcula el promedio de una lista de números.\n",
    "\n",
    "    Args:\n",
    "        lista_numeros (list): Lista de números a evaluar.\n",
    "\n",
    "    Returns:\n",
    "        float: Promedio de la lista.\n",
    "    \"\"\"\n",
    "    return sum(lista_numeros) / len(lista_numeros) if lista_numeros else 0\n",
    "\n",
    "resultado_promedio = promedio_lista([1, 2, 3, 4, 5])\n",
    "resultado_promedio\n"
   ]
  },
  {
   "cell_type": "markdown",
   "id": "0f96f822",
   "metadata": {},
   "source": [
    "28. Crea una función que busque y devuelva el primer elemento duplicado en una lista dada."
   ]
  },
  {
   "cell_type": "code",
   "execution_count": 105,
   "id": "a1502436",
   "metadata": {},
   "outputs": [],
   "source": [
    "def primer_duplicado(lista):\n",
    "    valores = []\n",
    "    for i in lista:\n",
    "        if i not in valores:\n",
    "            valores.append(i)   \n",
    "        else:\n",
    "            return i"
   ]
  },
  {
   "cell_type": "code",
   "execution_count": 109,
   "id": "50d87ffa",
   "metadata": {},
   "outputs": [
    {
     "data": {
      "text/plain": [
       "1"
      ]
     },
     "execution_count": 109,
     "metadata": {},
     "output_type": "execute_result"
    }
   ],
   "source": [
    "resultado_duplicado = primer_duplicado([1, 2, 3, 1,4, 2, 5, 3, 6])\n",
    "resultado_duplicado"
   ]
  },
  {
   "cell_type": "markdown",
   "id": "d99cc84b",
   "metadata": {},
   "source": [
    "29. Crea una función que convierta una variable en una cadena de texto y enmascare todos los caracteres  con el carácter '#', excepto los últimos cuatro."
   ]
  },
  {
   "cell_type": "code",
   "execution_count": 1,
   "id": "cf958578",
   "metadata": {},
   "outputs": [],
   "source": [
    "def censurar_cadena(variable):\n",
    "    \"\"\"\n",
    "    Convierte una variable en cadena de texto y enmascara todos los caracteres con '#' excepto los últimos cuatro.\n",
    "\n",
    "    Args:\n",
    "        variable: Variable a enmascarar.\n",
    "\n",
    "    Returns:\n",
    "        str: Cadena enmascarada.\n",
    "    \"\"\"\n",
    "    s = str(variable)\n",
    "    if len(s) <= 4:\n",
    "        return s\n",
    "    return \"#\" * (len(s) - 4) + s[-4:]"
   ]
  },
  {
   "cell_type": "code",
   "execution_count": 4,
   "id": "f2da6043",
   "metadata": {},
   "outputs": [
    {
     "data": {
      "text/plain": [
       "'######seña'"
      ]
     },
     "execution_count": 4,
     "metadata": {},
     "output_type": "execute_result"
    }
   ],
   "source": [
    "cadena_censurada = censurar_cadena(\"Contraseña\")\n",
    "cadena_censurada"
   ]
  },
  {
   "cell_type": "markdown",
   "id": "891fc443",
   "metadata": {},
   "source": [
    "30. Crea una función que determine si dos palabras son anagramas, es decir, si están formadas por las mismas letras pero en diferente orden."
   ]
  },
  {
   "cell_type": "code",
   "execution_count": 5,
   "id": "ba782f4e",
   "metadata": {},
   "outputs": [],
   "source": [
    "def detectar_anagrama(palabra1, palabra2):\n",
    "    \"\"\"\n",
    "    Comprueba si dos palabras son anagramas.\n",
    "\n",
    "    Args:\n",
    "        palabra1 (str): Primera palabra.\n",
    "        palabra2 (str): Segunda palabra.\n",
    "\n",
    "    Returns:\n",
    "        bool: True si son anagramas, False en caso contrario.\n",
    "    \"\"\"\n",
    "    return sorted(palabra1.lower()) == sorted(palabra2.lower())"
   ]
  },
  {
   "cell_type": "code",
   "execution_count": 9,
   "id": "06dcd941",
   "metadata": {},
   "outputs": [
    {
     "data": {
      "text/plain": [
       "True"
      ]
     },
     "execution_count": 9,
     "metadata": {},
     "output_type": "execute_result"
    }
   ],
   "source": [
    "test_anagrama = detectar_anagrama(\"amor\", \"Roma\")\n",
    "test_anagrama"
   ]
  },
  {
   "cell_type": "markdown",
   "id": "e8e47f79",
   "metadata": {},
   "source": [
    "31. Crea una función que solicite al usuario ingresar una lista de nombres y luego solicite un nombre para buscar en esa lista. Si el nombre está en la lista, se imprime un mensaje indicando que fue encontrado, de lo contrario, se lanza una excepción."
   ]
  },
  {
   "cell_type": "code",
   "execution_count": 18,
   "id": "32b475c4",
   "metadata": {},
   "outputs": [],
   "source": [
    "def encontrar_nombre(lista_nombres, nombre):\n",
    "    \"\"\"\n",
    "    Busca un nombre en una lista sin distinguir mayúsculas y minúsculas.\n",
    "\n",
    "    Args:\n",
    "        lista_nombres (list): Lista de nombres.\n",
    "        nombre (str): Nombre a buscar.\n",
    "\n",
    "    Returns:\n",
    "        str: Mensaje indicando si el nombre está o no en la lista.\n",
    "    \"\"\"\n",
    "    # Convertimos todos los nombres de la lista a minúsculas\n",
    "    nombres_normalizados = [n.lower() for n in lista_nombres]\n",
    "\n",
    "    # Comprobamos si el nombre buscado, también en minúsculas, está en esa lista\n",
    "    if nombre.lower() in nombres_normalizados:\n",
    "        return f\"El nombre {nombre} se encuentra en la lista\"\n",
    "    else:\n",
    "        return f\"El nombre {nombre} no se encuentra en la lista\"\n"
   ]
  },
  {
   "cell_type": "code",
   "execution_count": 21,
   "id": "32f52755",
   "metadata": {},
   "outputs": [
    {
     "data": {
      "text/plain": [
       "'El nombre Marta se encuentra en la lista'"
      ]
     },
     "execution_count": 21,
     "metadata": {},
     "output_type": "execute_result"
    }
   ],
   "source": [
    "lista_nombres = [\"Ana\", \"Luis\", \"Marta\", \"Pedro\", \"Sofía\"]\n",
    "nombre_a_buscar = \"Marta\"\n",
    "\n",
    "resultado = encontrar_nombre(lista_nombres, nombre_a_buscar)\n",
    "resultado  # El nombre marta se encuentra en la lista\n"
   ]
  },
  {
   "cell_type": "markdown",
   "id": "0451ad9a",
   "metadata": {},
   "source": [
    "32. Crea una función que tome un nombre completo y una lista de empleados, busque el nombre completo en la lista y devuelve el puesto del empleado si está en la lista, de lo contrario, devuelve un mensaje indicando que la persona no trabaja aquí."
   ]
  },
  {
   "cell_type": "code",
   "execution_count": 26,
   "id": "da6f0d4c",
   "metadata": {},
   "outputs": [],
   "source": [
    "def buscar_puesto(nombre_completo, lista_empleados):\n",
    "    \"\"\"\n",
    "    Busca el nombre completo en una lista de nombres y devuelve su índice (posición).\n",
    "\n",
    "    Args:\n",
    "        nombre_completo (str): Nombre a buscar.\n",
    "        lista_empleados (list): Lista de nombres.\n",
    "\n",
    "    Returns:\n",
    "        str: Mensaje con la posición o que no trabaja aquí.\n",
    "    \"\"\"\n",
    "    try:\n",
    "        posicion = lista_empleados.index(nombre_completo)\n",
    "        return f\"{nombre_completo} trabaja aquí y ocupa la posición {posicion}\"\n",
    "    except ValueError:\n",
    "        return f\"{nombre_completo} no trabaja aquí\"\n"
   ]
  },
  {
   "cell_type": "code",
   "execution_count": 27,
   "id": "c028fd2c",
   "metadata": {},
   "outputs": [
    {
     "data": {
      "text/plain": [
       "'Marta López trabaja aquí y ocupa la posición 2'"
      ]
     },
     "execution_count": 27,
     "metadata": {},
     "output_type": "execute_result"
    }
   ],
   "source": [
    "lista_empleados = [\"Ana Peña\", \"Luis García\", \"Marta López\", \"Pedro Sánchez\", \"Sofía Martínez\"]\n",
    "empleado_a_buscar = \"Marta López\"\n",
    "puesto_empleado = buscar_puesto(empleado_a_buscar, lista_empleados)\n",
    "puesto_empleado"
   ]
  },
  {
   "cell_type": "markdown",
   "id": "025e5b25",
   "metadata": {},
   "source": [
    "33. Crea una función  lambda  que sume elementos correspondientes de dos listas dadas."
   ]
  },
  {
   "cell_type": "code",
   "execution_count": 28,
   "id": "1e77b6b9",
   "metadata": {},
   "outputs": [
    {
     "name": "stdout",
     "output_type": "stream",
     "text": [
      "[5, 7, 9]\n"
     ]
    }
   ],
   "source": [
    "sumar_listas = lambda lista1, lista2: list(map(lambda x, y: x + y, lista1, lista2))\n",
    "resultado_suma = sumar_listas([1, 2, 3], [4, 5, 6])\n",
    "print(resultado_suma)  # Imprime: [5, 7, 9]"
   ]
  },
  {
   "cell_type": "markdown",
   "id": "46173395",
   "metadata": {},
   "source": [
    "34. Crea la clase  Arbol , define un árbol genérico con un tronco y ramas como atributos. Los métodos disponibles son: crecer_tronco ,  nueva_rama ,  crecer_ramas ,  quitar_rama  e  info_arbol . El objetivo es implementar estos métodos para manipular la estructura del árbol.\n",
    "\n",
    "Código a seguir:\n",
    "1. Inicializar un árbol con un tronco de longitud 1 y una lista vacía de ramas.\n",
    "2. Implementar el método  crecer_tronco  para aumentar la longitud del tronco en una unidad.\n",
    "3. Implementar el método  nueva_rama  para agregar una nueva rama de longitud 1 a la lista de ramas.\n",
    "4. Implementar el método  crecer_ramas  para aumentar en una unidad la longitud de todas las ramas existentes.\n",
    "5. Implementar el método  quitar_rama  para eliminar una rama en una posición específica."
   ]
  },
  {
   "cell_type": "code",
   "execution_count": 45,
   "id": "799d0e8a",
   "metadata": {},
   "outputs": [],
   "source": [
    "class Arbol:\n",
    "    def __init__(self):\n",
    "        self.tronco = 1\n",
    "        self.ramas = []\n",
    "\n",
    "    def crecer_tronco(self):\n",
    "        self.tronco += 1\n",
    "\n",
    "    def nueva_rama(self):\n",
    "        self.ramas.append(1)\n",
    "\n",
    "    def crecer_ramas(self):\n",
    "        self.ramas = [rama + 1 for rama in self.ramas]\n",
    "\n",
    "    def quitar_rama(self, posicion):\n",
    "        if 0 <= posicion < len(self.ramas):\n",
    "            self.ramas.pop(posicion)\n",
    "        else:\n",
    "            print(\"Posición inválida. No se ha quitado ninguna rama.\")\n",
    "\n",
    "    def info_arbol(self):\n",
    "        return {\n",
    "            \"longitud_tronco\": self.tronco,\n",
    "            \"numero_ramas\": len(self.ramas),\n",
    "            \"longitudes_ramas\": self.ramas.copy()\n",
    "        }"
   ]
  },
  {
   "cell_type": "markdown",
   "id": "e9c387e6",
   "metadata": {},
   "source": [
    "35. Implementar el método \n",
    "\n",
    "info_arbol  para devolver información sobre la longitud del tronco, el número de ramas y las longitudes de las \n",
    "mismas.\n",
    "\n",
    "Caso de uso:\n",
    "1. Crear un árbol.\n",
    "2. Hacer crecer el tronco del árbol una unidad.\n",
    "3. Añadir una nueva rama al árbol.\n",
    "4. Hacer crecer todas las ramas del árbol una unidad.\n",
    "5. Añadir dos nuevas ramas al árbol.\n",
    "6. Retirar la rama situada en la posición 2.\n",
    "7. Obtener información sobre el árbol."
   ]
  },
  {
   "cell_type": "code",
   "execution_count": 46,
   "id": "8654daff",
   "metadata": {},
   "outputs": [
    {
     "name": "stdout",
     "output_type": "stream",
     "text": [
      "{'longitud_tronco': 2, 'numero_ramas': 2, 'longitudes_ramas': [2, 1]}\n"
     ]
    }
   ],
   "source": [
    "# 1. Crear un árbol\n",
    "arbol = Arbol()\n",
    "\n",
    "# 2. Hacer crecer el tronco del árbol una unidad\n",
    "arbol.crecer_tronco()\n",
    "\n",
    "# 3. Añadir una nueva rama al árbol\n",
    "arbol.nueva_rama()\n",
    "\n",
    "# 4. Hacer crecer todas las ramas del árbol una unidad\n",
    "arbol.crecer_ramas()\n",
    "\n",
    "# 5. Añadir dos nuevas ramas al árbol\n",
    "arbol.nueva_rama()\n",
    "arbol.nueva_rama()\n",
    "\n",
    "# 6. Retirar la rama situada en la posición 2\n",
    "arbol.quitar_rama(2)\n",
    "\n",
    "# 7. Obtener información sobre el árbol\n",
    "info = arbol.info_arbol()\n",
    "print(info)"
   ]
  },
  {
   "cell_type": "markdown",
   "id": "1ab46307",
   "metadata": {},
   "source": [
    "36. Crea la clase  UsuarioBanco ,representa a un usuario de un banco con su nombre, saldo y si tiene o no cuenta corriente. Proporciona métodos para realizar operaciones como retirar dinero, transferir dinero desde otro usuario y  agregar dinero al saldo.\n",
    "Código a seguir:\n",
    "- Inicializar un usuario con su nombre, saldo y si tiene o no cuenta corriente mediante  True  y  False .\n",
    "- Implementar el método  retirar_dinero  para retirar dinero del saldo del usuario. Lanzará un error en caso de no poder hacerse.\n",
    "- Implementar el método  transferir_dinero  para realizar una transferencia desde otro usuario al usuario actual. \n",
    "Lanzará un error en caso de no poder hacerse.\n",
    "- Implementar el método  agregar_dinero  para agregar dinero al saldo del usuario.\n"
   ]
  },
  {
   "cell_type": "code",
   "execution_count": 68,
   "id": "41c7a492",
   "metadata": {},
   "outputs": [],
   "source": [
    "class UsuarioBanco:\n",
    "    def __init__(self, nombre, saldo, cuenta_corriente):\n",
    "        self.nombre = nombre\n",
    "        self.saldo = saldo\n",
    "        self.cuenta_corriente = cuenta_corriente  # True o False\n",
    "\n",
    "    def retirar_dinero(self, cantidad):\n",
    "        if cantidad <= 0:\n",
    "            print(\"La cantidad debe ser positiva.\")\n",
    "            return\n",
    "        if cantidad > self.saldo:\n",
    "            print(f\"{self.nombre} no tiene suficiente saldo para retirar {cantidad}€.\")\n",
    "            return\n",
    "        self.saldo -= cantidad\n",
    "\n",
    "    def transferir_dinero(self, otro_usuario, cantidad):\n",
    "        if cantidad <= 0:\n",
    "            print(\"La cantidad debe ser positiva.\")\n",
    "            return\n",
    "\n",
    "        if otro_usuario.saldo < cantidad:\n",
    "            print(f\"{otro_usuario.nombre} no tiene suficiente saldo para transferir {cantidad}€.\")\n",
    "            print(f\"Se transferirán {otro_usuario.saldo}€ en su lugar.\")\n",
    "            cantidad = otro_usuario.saldo  # todo lo que pueda\n",
    "\n",
    "        otro_usuario.retirar_dinero(cantidad)\n",
    "        self.agregar_dinero(cantidad)\n",
    "        print(f\"{otro_usuario.nombre} ha transferido {cantidad}€ a {self.nombre}.\")\n",
    "\n",
    "    def agregar_dinero(self, cantidad):\n",
    "        if cantidad <= 0:\n",
    "            print(\"La cantidad debe ser positiva.\")\n",
    "            return\n",
    "        self.saldo += cantidad\n",
    "\n",
    "    def __str__(self):\n",
    "        tipo_cuenta = \"Sí\" if self.cuenta_corriente else \"No\"\n",
    "        return f\"Usuario: {self.nombre}, Saldo: {self.saldo:.2f}€, Cuenta Corriente: {tipo_cuenta}\"\n"
   ]
  },
  {
   "cell_type": "markdown",
   "id": "7c20a6a2",
   "metadata": {},
   "source": [
    "Caso de uso:\n",
    "- Crear dos usuarios: \"Alicia\" con saldo inicial de 100 y \"Bob\" con saldo inicial de 50, ambos con cuenta corriente.\n",
    "- Agregar 20 unidades de saldo de \"Bob\".\n",
    "- Hacer una transferencia de 80 unidades desde \"Bob\" a \"Alicia\".\n",
    "- Retirar 50 unidades de saldo a \"Alicia\"."
   ]
  },
  {
   "cell_type": "code",
   "execution_count": 71,
   "id": "ebcd0b6b",
   "metadata": {},
   "outputs": [
    {
     "name": "stdout",
     "output_type": "stream",
     "text": [
      "Bob no tiene suficiente saldo para transferir 80€.\n",
      "Se transferirán 70€ en su lugar.\n",
      "Bob ha transferido 70€ a Alicia.\n",
      "Usuario: Alicia, Saldo: 120.00€, Cuenta Corriente: Sí\n",
      "Usuario: Bob, Saldo: 0.00€, Cuenta Corriente: Sí\n"
     ]
    }
   ],
   "source": [
    "# Crear los usuarios\n",
    "alicia = UsuarioBanco(\"Alicia\", 100, True)\n",
    "bob = UsuarioBanco(\"Bob\", 50, True)\n",
    "\n",
    "# Agregar 20 unidades de saldo a Bob\n",
    "bob.agregar_dinero(20)\n",
    "\n",
    "# Hacer una transferencia de 80 unidades desde Bob a Alicia\n",
    "alicia.transferir_dinero(bob, 80)\n",
    "\n",
    "# Retirar 50 unidades de saldo a Alicia\n",
    "alicia.retirar_dinero(50)\n",
    "\n",
    "# Mostrar estado final de ambos usuarios\n",
    "print(alicia)\n",
    "print(bob)"
   ]
  },
  {
   "cell_type": "markdown",
   "id": "c7ee3ff4",
   "metadata": {},
   "source": [
    "37. Crea una función llamada  procesar_texto  que procesa un texto según la opción especificada:  contar_palabras , reemplazar_palabras ,  eliminar_palabra . Estas opciones son otras funciones que tenemos que definir primero y llamar dentro de la función  procesar_texto .\n",
    "\n",
    "Código a seguir:\n",
    "- Crear una función  contar_palabras  para contar el número de veces que aparece cada palabra en el texto. Tiene que devolver un diccionario.\n",
    "- Crear una función  reemplazar_palabras  para remplazar una  palabra_original  del texto por una  palabra_nueva . Tiene que devolver el texto con el remplazo de palabras.\n",
    "- Crear una función  eliminar_palabra  para eliminar una palabra del texto. Tiene que devolver el texto con la palabra \n",
    "eliminada.\n",
    "- Crear la función  procesar_texto  que tome un texto, una opción(entre \"contar\", \"reemplazar\", \"eliminar\") y un número de argumentos variable según la opción indicada."
   ]
  },
  {
   "cell_type": "code",
   "execution_count": 72,
   "id": "b7255a62",
   "metadata": {},
   "outputs": [],
   "source": [
    "def contar_palabras(texto):\n",
    "    palabras = texto.split()\n",
    "    contador = {}\n",
    "    for palabra in palabras:\n",
    "        palabra_limpia = palabra.strip('.,;:\"!?¡¿()').lower()\n",
    "        contador[palabra_limpia] = contador.get(palabra_limpia, 0) + 1\n",
    "    return contador\n",
    "\n",
    "def reemplazar_palabras(texto, palabra_original, palabra_nueva):\n",
    "    return texto.replace(palabra_original, palabra_nueva)\n",
    "\n",
    "def eliminar_palabra(texto, palabra_a_eliminar):\n",
    "    palabras = texto.split()\n",
    "    palabras_filtradas = [p for p in palabras if p != palabra_a_eliminar]\n",
    "    return ' '.join(palabras_filtradas)\n"
   ]
  },
  {
   "cell_type": "code",
   "execution_count": 73,
   "id": "b4a6feaa",
   "metadata": {},
   "outputs": [],
   "source": [
    "def procesar_texto(texto, opcion, *args):\n",
    "    if opcion == \"contar\":\n",
    "        return contar_palabras(texto)\n",
    "    elif opcion == \"reemplazar\":\n",
    "        if len(args) != 2:\n",
    "            raise ValueError(\"Se requieren dos argumentos: palabra_original y palabra_nueva.\")\n",
    "        return reemplazar_palabras(texto, args[0], args[1])\n",
    "    elif opcion == \"eliminar\":\n",
    "        if len(args) != 1:\n",
    "            raise ValueError(\"Se requiere un argumento: palabra_a_eliminar.\")\n",
    "        return eliminar_palabra(texto, args[0])\n",
    "    else:\n",
    "        raise ValueError(\"Opción no válida. Usa 'contar', 'reemplazar' o 'eliminar'.\")\n"
   ]
  },
  {
   "cell_type": "markdown",
   "id": "028814eb",
   "metadata": {},
   "source": [
    "Caso de uso:\n",
    "- Comprueba el funcionamiento completo de la función  procesar_texto"
   ]
  },
  {
   "cell_type": "code",
   "execution_count": 74,
   "id": "6cacc589",
   "metadata": {},
   "outputs": [
    {
     "name": "stdout",
     "output_type": "stream",
     "text": [
      "Conteo de palabras:\n",
      "{'el': 2, 'gato': 3, 'se': 1, 'subió': 1, 'al': 2, 'tejado': 1, 'perro': 1, 'ladró': 1, 'qué': 1, 'tan': 1, 'valiente': 1}\n",
      "\n",
      "Texto con 'gato' reemplazado por 'conejo':\n",
      "El conejo se subió al tejado. El perro ladró al conejo. ¡Qué conejo tan valiente!\n",
      "\n",
      "Texto con la palabra 'al' eliminada:\n",
      "El gato se subió tejado. El perro ladró gato. ¡Qué gato tan valiente!\n"
     ]
    }
   ],
   "source": [
    "# Texto de ejemplo\n",
    "texto_original = \"El gato se subió al tejado. El perro ladró al gato. ¡Qué gato tan valiente!\"\n",
    "\n",
    "# Contar palabras\n",
    "conteo = procesar_texto(texto_original, \"contar\")\n",
    "print(\"Conteo de palabras:\")\n",
    "print(conteo)\n",
    "\n",
    "# Reemplazar 'gato' por 'conejo'\n",
    "texto_reemplazado = procesar_texto(texto_original, \"reemplazar\", \"gato\", \"conejo\")\n",
    "print(\"\\nTexto con 'gato' reemplazado por 'conejo':\")\n",
    "print(texto_reemplazado)\n",
    "\n",
    "# Eliminar la palabra 'al'\n",
    "texto_eliminado = procesar_texto(texto_original, \"eliminar\", \"al\")\n",
    "print(\"\\nTexto con la palabra 'al' eliminada:\")\n",
    "print(texto_eliminado)\n"
   ]
  },
  {
   "cell_type": "markdown",
   "id": "b5d31c76",
   "metadata": {},
   "source": [
    "38. Genera un programa que nos diga si es de noche, de día o tarde según la hora proporcionada por el usuario."
   ]
  },
  {
   "cell_type": "code",
   "execution_count": 76,
   "id": "468cd72b",
   "metadata": {},
   "outputs": [],
   "source": [
    "def clasificar_momento_del_dia(hora):\n",
    "    if 0 <= hora <= 5 or 21 <= hora <= 23:\n",
    "        return \"Es de noche.\"\n",
    "    elif 6 <= hora <= 12:\n",
    "        return \"Es de día.\"\n",
    "    elif 13 <= hora <= 20:\n",
    "        return \"Es de tarde.\"\n",
    "    else:\n",
    "        return \"Hora inválida. Debe estar entre 0 y 23.\"\n"
   ]
  },
  {
   "cell_type": "code",
   "execution_count": 77,
   "id": "ce1fc7b8",
   "metadata": {},
   "outputs": [
    {
     "name": "stdout",
     "output_type": "stream",
     "text": [
      "Es de noche.\n"
     ]
    }
   ],
   "source": [
    "try:\n",
    "    entrada = input(\"Introduce la hora (0 a 23): \")\n",
    "    hora = int(entrada)\n",
    "    resultado = clasificar_momento_del_dia(hora)\n",
    "    print(resultado)\n",
    "except ValueError:\n",
    "    print(\"Por favor, introduce un número entero válido.\")"
   ]
  },
  {
   "cell_type": "markdown",
   "id": "3c2bb8d4",
   "metadata": {},
   "source": [
    "39. Escribe un programa que determine qué calificación en texto tiene un alumno en base a su calificación numérica. \n",
    "\n",
    "Las reglas de calificación son:\n",
    "- 0 - 69 insuficiente\n",
    "- 70 - 79 bien\n",
    "- 80 - 89 muy bien\n",
    "- 90 - 100 excelente"
   ]
  },
  {
   "cell_type": "code",
   "execution_count": 79,
   "id": "3bfb0f39",
   "metadata": {},
   "outputs": [],
   "source": [
    "def calificacion_en_texto(nota):\n",
    "    if 0 <= nota <= 69:\n",
    "        return \"Insuficiente\"\n",
    "    elif 70 <= nota <= 79:\n",
    "        return \"Bien\"\n",
    "    elif 80 <= nota <= 89:\n",
    "        return \"Muy bien\"\n",
    "    elif 90 <= nota <= 100:\n",
    "        return \"Excelente\"\n",
    "    else:\n",
    "        return \"Nota inválida. Debe estar entre 0 y 100.\"\n"
   ]
  },
  {
   "cell_type": "code",
   "execution_count": 80,
   "id": "ab98421a",
   "metadata": {},
   "outputs": [
    {
     "name": "stdout",
     "output_type": "stream",
     "text": [
      "Resultado: Bien\n"
     ]
    }
   ],
   "source": [
    "try:\n",
    "    entrada = input(\"Introduce la calificación (0 a 100): \")\n",
    "    nota = int(entrada)\n",
    "    resultado = calificacion_en_texto(nota)\n",
    "    print(\"Resultado:\", resultado)\n",
    "except ValueError:\n",
    "    print(\"Por favor, introduce un número entero válido.\")"
   ]
  },
  {
   "cell_type": "markdown",
   "id": "c4fffb8e",
   "metadata": {},
   "source": [
    "40. Escribe una función que tome dos parámetros:  figura  (una cadena que puede ser  \"rectangulo\" ,  \"circulo\"  o \"triangulo\" ) y  datos  (una tupla con los datos necesarios para calcular el área de la figura)."
   ]
  },
  {
   "cell_type": "code",
   "execution_count": 81,
   "id": "51b83056",
   "metadata": {},
   "outputs": [],
   "source": [
    "def calcular_area(figura, datos):\n",
    "    figura = figura.lower()\n",
    "\n",
    "    if figura == \"rectangulo\":\n",
    "        if len(datos) != 2:\n",
    "            return \"Se necesitan base y altura para un rectángulo.\"\n",
    "        base, altura = datos\n",
    "        return base * altura\n",
    "\n",
    "    elif figura == \"triangulo\":\n",
    "        if len(datos) != 2:\n",
    "            return \"Se necesitan base y altura para un triángulo.\"\n",
    "        base, altura = datos\n",
    "        return (base * altura) / 2\n",
    "\n",
    "    elif figura == \"circulo\":\n",
    "        if len(datos) != 1:\n",
    "            return \"Se necesita el radio para un círculo.\"\n",
    "        (radio,) = datos\n",
    "        pi = 3.14\n",
    "        return pi * radio ** 2\n",
    "\n",
    "    else:\n",
    "        return \"Figura no reconocida. Usa 'rectangulo', 'triangulo' o 'circulo'.\"\n"
   ]
  },
  {
   "cell_type": "code",
   "execution_count": 82,
   "id": "dbbb0635",
   "metadata": {},
   "outputs": [
    {
     "name": "stdout",
     "output_type": "stream",
     "text": [
      "20\n",
      "9.0\n",
      "12.56\n"
     ]
    }
   ],
   "source": [
    "print(calcular_area(\"rectangulo\", (4, 5)))   # 20\n",
    "print(calcular_area(\"triangulo\", (3, 6)))    # 9.0\n",
    "print(calcular_area(\"circulo\", (2,)))        # 12.56"
   ]
  },
  {
   "cell_type": "markdown",
   "id": "b0d14aa4",
   "metadata": {},
   "source": [
    "41. En este ejercicio, se te pedirá que escribas un programa en Python que utilice condicionales para determinar el monto final de una compra en una tienda en línea, después de aplicar un descuento. El programa debe hacer lo siguiente:\n",
    "- Solicita al usuario que ingrese el precio original de un artículo.\n",
    "- Pregunta al usuario si tiene un cupón de descuento (respuesta sí o no).\n",
    "- Si el usuario responde que sí, solicita que ingrese el valor del cupón de descuento.\n",
    "- Aplica el descuento al precio original del artículo, siempre y cuando el valor del cupón sea válido (es decir, mayor a cero). Por ejemplo, descuento de 15€. \n",
    "- Muestra el precio final de la compra, teniendo en cuenta el descuento aplicado o sin él. \n",
    "> Recuerda utilizar estructuras de control de flujo como if, elif y else para llevar a cabo estas acciones en tu programa de Python."
   ]
  },
  {
   "cell_type": "code",
   "execution_count": 84,
   "id": "f4ad4c0f",
   "metadata": {},
   "outputs": [
    {
     "name": "stdout",
     "output_type": "stream",
     "text": [
      "Descuento aplicado de 25.00€. Precio final: 27.00€\n"
     ]
    }
   ],
   "source": [
    "try:\n",
    "    # Paso 1: Solicitar el precio original\n",
    "    precio = float(input(\"Introduce el precio original del artículo (€): \"))\n",
    "\n",
    "    if precio < 0:\n",
    "        print(\"El precio no puede ser negativo.\")\n",
    "    else:\n",
    "        # Paso 2: Preguntar por cupón\n",
    "        tiene_cupon = input(\"¿Tienes un cupón de descuento? (sí/no): \").strip().lower()\n",
    "\n",
    "        # Paso 3: Si tiene cupón, solicitar valor y aplicar\n",
    "        if tiene_cupon == \"sí\" or tiene_cupon == \"si\":\n",
    "            try:\n",
    "                descuento = float(input(\"Introduce el valor del cupón de descuento (€): \"))\n",
    "                if descuento > 0:\n",
    "                    precio_final = max(precio - descuento, 0)  # Evita que el precio final sea negativo\n",
    "                    print(f\"Descuento aplicado de {descuento:.2f}€. Precio final: {precio_final:.2f}€\")\n",
    "                else:\n",
    "                    print(\"El valor del cupón debe ser mayor que 0. No se ha aplicado descuento.\")\n",
    "                    print(f\"Precio final: {precio:.2f}€\")\n",
    "            except ValueError:\n",
    "                print(\"Valor de descuento no válido. No se ha aplicado descuento.\")\n",
    "                print(f\"Precio final: {precio:.2f}€\")\n",
    "        elif tiene_cupon == \"no\":\n",
    "            print(f\"Precio final sin descuento: {precio:.2f}€\")\n",
    "        else:\n",
    "            print(\"Respuesta no válida. Se asume que no tienes cupón.\")\n",
    "            print(f\"Precio final: {precio:.2f}€\")\n",
    "\n",
    "except ValueError:\n",
    "    print(\"Por favor, introduce un número válido para el precio.\")\n"
   ]
  }
 ],
 "metadata": {
  "kernelspec": {
   "display_name": "Python 3",
   "language": "python",
   "name": "python3"
  },
  "language_info": {
   "codemirror_mode": {
    "name": "ipython",
    "version": 3
   },
   "file_extension": ".py",
   "mimetype": "text/x-python",
   "name": "python",
   "nbconvert_exporter": "python",
   "pygments_lexer": "ipython3",
   "version": "3.13.1"
  }
 },
 "nbformat": 4,
 "nbformat_minor": 5
}
